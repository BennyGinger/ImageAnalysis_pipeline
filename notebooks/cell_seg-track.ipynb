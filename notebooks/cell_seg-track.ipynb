{
 "cells": [
  {
   "attachments": {},
   "cell_type": "markdown",
   "metadata": {},
   "source": [
    "Initiate Notebook"
   ]
  },
  {
   "cell_type": "code",
   "execution_count": 31,
   "metadata": {},
   "outputs": [],
   "source": [
    "from sys import path, platform\n",
    "from os import sep\n",
    "\n",
    "server_path = '/home/ben/EBlabDrive'\n",
    "server_path = 'Z:'\n",
    "if not server_path.split(sep)[-1]: server_path = server_path[:-1]\n",
    "\n",
    "if platform == \"linux\": module_path = server_path+'/Imaging/_Analysis/ImageAnalysis_pipeline/pipeline'\n",
    "elif platform == 'win32': module_path = server_path+'\\Imaging\\_Analysis\\ImageAnalysis_pipeline\\pipeline'\n",
    "\n",
    "path.insert(1,module_path)"
   ]
  },
  {
   "attachments": {},
   "cell_type": "markdown",
   "metadata": {},
   "source": [
    "Run Image Processing"
   ]
  },
  {
   "cell_type": "code",
   "execution_count": 3,
   "metadata": {},
   "outputs": [],
   "source": [
    "from core import Experiments\n",
    "\n",
    "folder = '/home/ben/LTB4_Paper/DoseR'\n",
    "channel_list = ['red','green']\n",
    "channel_seg = 'red'\n",
    "true_channel_list = ['red','green'] # Can be commented in/out\n",
    "\n",
    "exp = Experiments(parent_folder=folder,\n",
    "                channel_list=channel_list,\n",
    "                channel_seg=channel_seg)\n",
    "\n",
    "exp.pre_process_all(\n",
    "                    true_channel_list=true_channel_list,\n",
    "                    # reg=True,\n",
    "                    # reg_ref='mean'\n",
    "                    # reg_ow=False,\n",
    "                    # reg_mtd='translation',\n",
    "                    # reg_channel='red'\n",
    "                    )\n",
    "\n",
    "exp.exp_cp_seg(\n",
    "                    imgFold='Images',\n",
    "                    # exp_path=None,\n",
    "                    diameter=30,\n",
    "                    # channel_seg='red',\n",
    "                    # nucMarker=None,\n",
    "                    flow_threshold=0.4,\n",
    "                    cellprob_threshold=0.0,\n",
    "                    # seg_ow=True,\n",
    "                    # stitch=None,\n",
    "                    # model_type=model_type,\n",
    "                    # min_size = 15,\n",
    "                    # do_log=False\n",
    "                    )\n",
    "\n",
    "exp.exp_track_cells(\n",
    "                    # maskFold='Masks_CP',\n",
    "                    # exp_path=None,\n",
    "                    # channel_seg=None,\n",
    "                    # stitch_threshold=0.25,\n",
    "                    # shape_threshold=0.2,\n",
    "                    # stitch_ow=False,\n",
    "                    # n_mask=2\n",
    "                    )"
   ]
  },
  {
   "attachments": {},
   "cell_type": "markdown",
   "metadata": {},
   "source": [
    "Run Analysis"
   ]
  },
  {
   "cell_type": "code",
   "execution_count": null,
   "metadata": {},
   "outputs": [],
   "source": [
    "# exp.exp_compart(maskFold='Masks_stitched',\n",
    "#                 # channel_seg=None,\n",
    "#                 # exp_path=None,\n",
    "#                 # rad_ero=10,\n",
    "#                 # rad_dil=None,\n",
    "#                 # compart_ow=False\n",
    "#                 )\n",
    "\n",
    "# exp.exp_class(maskFold='Masks_stitched',\n",
    "#                 primary_channel='green',\n",
    "#                 secondary_channel='red',\n",
    "#                 # exp_path=None,\n",
    "#                 # rad_ero=10,\n",
    "#                 # class_ow=False\n",
    "#                 )\n",
    "\n",
    "exp.exp_analysis(imgFold='Images',\n",
    "                maskFold='Masks_stitched',\n",
    "                # channel_seg=None,\n",
    "                # exp_path=None,\n",
    "                # df_ow=False,\n",
    "                # do_cell_dist=False,\n",
    "                # maskLabel='wound'\n",
    "                )"
   ]
  },
  {
   "attachments": {},
   "cell_type": "markdown",
   "metadata": {},
   "source": [
    "Check Results"
   ]
  },
  {
   "cell_type": "code",
   "execution_count": null,
   "metadata": {},
   "outputs": [],
   "source": [
    "exp.masterdf_analysis\n",
    "\n",
    "exp.exps_analysis[0].df_analysis"
   ]
  }
 ],
 "metadata": {
  "kernelspec": {
   "display_name": "cp_test",
   "language": "python",
   "name": "python3"
  },
  "language_info": {
   "codemirror_mode": {
    "name": "ipython",
    "version": 3
   },
   "file_extension": ".py",
   "mimetype": "text/x-python",
   "name": "python",
   "nbconvert_exporter": "python",
   "pygments_lexer": "ipython3",
   "version": "3.8.13"
  },
  "orig_nbformat": 4
 },
 "nbformat": 4,
 "nbformat_minor": 2
}
