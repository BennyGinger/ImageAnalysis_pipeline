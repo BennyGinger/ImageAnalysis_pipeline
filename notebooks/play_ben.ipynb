{
 "cells": [
  {
   "cell_type": "code",
   "execution_count": 36,
   "metadata": {},
   "outputs": [
    {
     "name": "stdout",
     "output_type": "stream",
     "text": [
      "s.chan_shift['overwrite'] = False\n",
      "s.chan_shift['overwrite'] = True\n"
     ]
    }
   ],
   "source": [
    "from __future__ import annotations\n",
    "from dataclasses import dataclass, field, fields\n",
    "import functools\n",
    "\n",
    "\n",
    "def rsetattr(obj, attr, val):\n",
    "    pre, _, post = attr.rpartition('.')\n",
    "    return setattr(rgetattr(obj, pre) if pre else obj, post, val)\n",
    "\n",
    "def rgetattr(obj, attr, *args):\n",
    "    def _getattr(obj, attr):\n",
    "        return getattr(obj, attr, *args)\n",
    "    return functools.reduce(_getattr, [obj] + attr.split('.'))\n",
    "\n",
    "\n",
    "@dataclass\n",
    "class BgSub:\n",
    "    sigma: float = field(default_factory=float)\n",
    "    size: int = field(default_factory=int)\n",
    "    overwrite: bool = field(default_factory=bool)\n",
    "    \n",
    "@dataclass\n",
    "class ChanShift:\n",
    "    reg_channel: str = field(default_factory=str)\n",
    "    reg_mtd: str = field(default_factory=str)\n",
    "    overwrite: bool = field(default_factory=bool)\n",
    "    \n",
    "@dataclass\n",
    "class Register:\n",
    "    reg_channel: str = field(default_factory=str)\n",
    "    reg_mtd: str = field(default_factory=str)\n",
    "    reg_ref: str = field(default_factory=str)\n",
    "    overwrite: bool = field(default_factory=bool)\n",
    "    \n",
    "@dataclass\n",
    "class Blur:\n",
    "    kernel: tuple[int] = field(default_factory=tuple)\n",
    "    sigma: int = field(default_factory=int)\n",
    "    img_fold_src: str = field(default_factory=str)\n",
    "    overwrite: bool = field(default_factory=bool)\n",
    "\n",
    "def unpack_settings(input_settings: dict)-> Settings:\n",
    "    settings = Settings()\n",
    "    if input_settings['run_bg_sub']:\n",
    "        settings.bg_sub = BgSub(**input_settings['bg_sub'])\n",
    "    if input_settings['run_chan_shift']:\n",
    "        settings.chan_shift = ChanShift(**input_settings['chan_shift'])\n",
    "    if input_settings['run_register']:\n",
    "        settings.register = Register(**input_settings['register'])\n",
    "    if input_settings['run_blur']:\n",
    "        settings.blur = Blur(**input_settings['blur'])\n",
    "    return settings\n",
    "\n",
    "\n",
    "@dataclass\n",
    "class Settings:\n",
    "    settings: dict\n",
    "    bg_sub: dict = field(init=False)\n",
    "    chan_shift: dict = field(init=False)\n",
    "    register: dict = field(init=False)\n",
    "    blur: dict = field(init=False)\n",
    "    \n",
    "    def __post_init__(self)-> None:\n",
    "        if self.settings['run_bg_sub']:\n",
    "            self.bg_sub = self.settings['bg_sub']\n",
    "        if self.settings['run_chan_shift']:\n",
    "            self.chan_shift = self.settings['chan_shift']\n",
    "        if self.settings['run_register']:\n",
    "            self.register = self.settings['register']\n",
    "        if self.settings['run_blur']:\n",
    "            self.blur = self.settings['blur']\n",
    "        self.update_overwrite()\n",
    "        \n",
    "    def update_overwrite(self)-> None:\n",
    "        active_branches = [f.name for f in fields(self) if hasattr(self,f.name) and f.name != 'settings']\n",
    "        current_overwrite = [getattr(self,f)['overwrite'] for f in active_branches]\n",
    "\n",
    "        # Get the new overwrite list, if the previous is true then change the next to true, else keep the same\n",
    "        new_overwrite = []; is_False = True\n",
    "        for i in range(len(current_overwrite)):\n",
    "            if current_overwrite[i] == False and is_False:\n",
    "                new_overwrite.append(current_overwrite[i])\n",
    "            elif current_overwrite[i] == True and is_False:\n",
    "                new_overwrite.append(current_overwrite[i])\n",
    "                is_False = False\n",
    "            elif not is_False:\n",
    "                new_overwrite.append(True)# Update the overwrite attribute\n",
    "        \n",
    "        # Update the overwrite attribute\n",
    "        for i,branch in enumerate(active_branches):\n",
    "            temp_dict = getattr(self,branch)\n",
    "            temp_dict['overwrite'] = new_overwrite[i]\n",
    "            setattr(self,branch,temp_dict)\n",
    "\n",
    "\n",
    "settings = settings = {\n",
    "    \"run_bg_sub\": True,\n",
    "    \"run_chan_shift\": True,\n",
    "    \"run_register\": True,\n",
    "    \"run_blur\": True,\n",
    "    \n",
    "    \"bg_sub\": {\"sigma\": 0.0,\"size\": 7,\"overwrite\": True},\n",
    "    \"chan_shift\": {\"reg_channel\": \"C1\",\"reg_mtd\": \"rigid\",\"overwrite\": False},\n",
    "    \"register\": {\"reg_channel\": \"C1\",\"reg_mtd\": \"rigid\",\"reg_ref\": \"C1\",\"overwrite\": False},\n",
    "    \"blur\": {\"kernel\": (5,5),\"sigma\": 0,\"img_fold_src\": \"\",\"overwrite\": True}}\n",
    "\n",
    "s = Settings(settings)\n",
    "print(f\"{s.chan_shift['overwrite'] = }\")\n",
    "s.update_overwrite()\n",
    "print(f\"{s.chan_shift['overwrite'] = }\")"
   ]
  },
  {
   "cell_type": "code",
   "execution_count": 8,
   "metadata": {},
   "outputs": [
    {
     "name": "stdout",
     "output_type": "stream",
     "text": [
      "(3, -1, 3)\n"
     ]
    }
   ],
   "source": [
    "def myfunc(a,b):\n",
    "    return a+b, a-b\n",
    "\n",
    "def myfunc2(a,b,c):\n",
    "    return *myfunc(a,b), c\n",
    "\n",
    "print(myfunc2(1,2,3))"
   ]
  },
  {
   "cell_type": "code",
   "execution_count": 1,
   "metadata": {},
   "outputs": [
    {
     "name": "stdout",
     "output_type": "stream",
     "text": [
      "{'a': 3, 'b': 3}\n"
     ]
    }
   ],
   "source": [
    "d = {'a':1,'b':2}\n",
    "d['a'] = d['b'] = 3\n",
    "print(d)"
   ]
  },
  {
   "cell_type": "code",
   "execution_count": 16,
   "metadata": {},
   "outputs": [
    {
     "name": "stdout",
     "output_type": "stream",
     "text": [
      "GFP_s01_f0001_z0001.tif\n",
      "GFP_s01_f0001_z0002.tif\n",
      "GFP_s01_f0001_z0003.tif\n",
      "GFP_s01_f0001_z0004.tif\n",
      "GFP_s01_f0001_z0005.tif\n",
      "GFP_s01_f0001_z0006.tif\n",
      "GFP_s01_f0001_z0007.tif\n",
      "GFP_s01_f0001_z0008.tif\n",
      "GFP_s01_f0001_z0009.tif\n",
      "GFP_s01_f0001_z0010.tif\n",
      "GFP_s01_f0001_z0011.tif\n",
      "GFP_s01_f0001_z0012.tif\n",
      "GFP_s01_f0001_z0013.tif\n",
      "GFP_s01_f0001_z0014.tif\n",
      "GFP_s01_f0001_z0015.tif\n",
      "GFP_s01_f0001_z0016.tif\n",
      "GFP_s01_f0001_z0017.tif\n",
      "GFP_s01_f0001_z0018.tif\n",
      "GFP_s01_f0001_z0019.tif\n",
      "GFP_s01_f0001_z0020.tif\n",
      "GFP_s01_f0001_z0021.tif\n",
      "GFP_s01_f0001_z0022.tif\n",
      "GFP_s01_f0001_z0023.tif\n",
      "GFP_s01_f0001_z0024.tif\n",
      "GFP_s01_f0001_z0025.tif\n"
     ]
    }
   ],
   "source": [
    "s = \"GFP_s01_f0001_z0001.tif\"\n",
    "\n",
    "for i in range(25):\n",
    "    temp = s.split('_z')\n",
    "    file_type = temp[1].split('.')[-1]\n",
    "    new_z = f\"_z{i+1:04d}.{file_type}\"\n",
    "    new_file = temp[0] + new_z\n",
    "    print(new_file)"
   ]
  },
  {
   "cell_type": "code",
   "execution_count": 4,
   "metadata": {},
   "outputs": [
    {
     "name": "stdout",
     "output_type": "stream",
     "text": [
      "ImageJ=1.11a\n",
      "images=4\n",
      "channels=4\n",
      "hyperstack=true\n",
      "mode=grayscale\n",
      "original_frames=91\n",
      "finterval=10\n",
      "unit=um\n"
     ]
    }
   ],
   "source": [
    "\n",
    "from os import PathLike\n",
    "from tifffile import TiffFile, imread, imwrite\n",
    "\n",
    "\n",
    "def get_tif_meta(img_path: PathLike) -> dict:\n",
    "    # Open tif and read meta\n",
    "    with TiffFile(img_path) as tif:\n",
    "        imagej_meta = tif.imagej_metadata\n",
    "        imagej_meta['axes'] = tif.series[0].axes\n",
    "        for page in tif.pages: # Add additional meta\n",
    "            for tag in page.tags:\n",
    "                if tag.name in ['ImageWidth','ImageLength',]:\n",
    "                    imagej_meta[tag.name] = tag.value\n",
    "                if tag.name in ['XResolution','YResolution']:\n",
    "                    imagej_meta[tag.name] = tag.value[0]/tag.value[1]\n",
    "    \n",
    "    # if 'frames' not in imagej_meta: imagej_meta['frames'] = 1\n",
    "    \n",
    "    # if 'channels' not in imagej_meta: imagej_meta['channels'] = 1\n",
    "    \n",
    "    # if 'slices' not in imagej_meta: imagej_meta['slices'] = 1\n",
    "    \n",
    "    # if 'finterval' not in imagej_meta: imagej_meta['finterval'] = 0\n",
    "    \n",
    "    # imagej_meta['n_series'] = 1\n",
    "    return imagej_meta\n",
    "\n",
    "img_path = '/home/Test_images/tiff/Run4/c4z1t91v1.tif'\n",
    "save_test = '/home/Test_images/tiff/Run4/test.tif'\n",
    "meta = get_tif_meta(img_path)\n",
    "img = imread(img_path)\n",
    "imwrite(save_test,img[0,...],metadata={'channels':4, 'original_frames':91,'frames':1,'finterval': 10,'unit':'um'},resolution=(3.076923,2),imagej=True)\n",
    "with TiffFile(save_test) as tif:\n",
    "    meta_test = tif.imagej_metadata\n",
    "    for page in tif.pages:\n",
    "        for tag in page.tags:\n",
    "            if tag.name=='ImageDescription':\n",
    "                print(tag.value)"
   ]
  },
  {
   "cell_type": "code",
   "execution_count": 2,
   "metadata": {},
   "outputs": [
    {
     "data": {
      "text/plain": [
       "{'ImageJ': '1.11a',\n",
       " 'images': 4,\n",
       " 'channels': 4,\n",
       " 'hyperstack': True,\n",
       " 'mode': 'grayscale',\n",
       " 'original_frames': 91,\n",
       " 'finterval': 10}"
      ]
     },
     "execution_count": 2,
     "metadata": {},
     "output_type": "execute_result"
    }
   ],
   "source": [
    "meta_test"
   ]
  }
 ],
 "metadata": {
  "kernelspec": {
   "display_name": "cp_test",
   "language": "python",
   "name": "python3"
  },
  "language_info": {
   "codemirror_mode": {
    "name": "ipython",
    "version": 3
   },
   "file_extension": ".py",
   "mimetype": "text/x-python",
   "name": "python",
   "nbconvert_exporter": "python",
   "pygments_lexer": "ipython3",
   "version": "3.8.18"
  }
 },
 "nbformat": 4,
 "nbformat_minor": 2
}
