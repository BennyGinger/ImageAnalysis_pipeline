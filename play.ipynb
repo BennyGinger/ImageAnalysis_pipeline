{
 "cells": [
  {
   "cell_type": "code",
   "execution_count": 1,
   "metadata": {},
   "outputs": [],
   "source": [
    "from pipeline.gui import tabs"
   ]
  },
  {
   "cell_type": "code",
   "execution_count": null,
   "metadata": {},
   "outputs": [
    {
     "ename": "",
     "evalue": "",
     "output_type": "error",
     "traceback": [
      "\u001b[1;31mThe Kernel crashed while executing code in the current cell or a previous cell. \n",
      "\u001b[1;31mPlease review the code in the cell(s) to identify a possible cause of the failure. \n",
      "\u001b[1;31mClick <a href='https://aka.ms/vscodeJupyterKernelCrash'>here</a> for more info. \n",
      "\u001b[1;31mView Jupyter <a href='command:jupyter.viewOutput'>log</a> for further details."
     ]
    }
   ],
   "source": [
    "tabs.start_gui()"
   ]
  },
  {
   "cell_type": "code",
   "execution_count": 13,
   "metadata": {},
   "outputs": [],
   "source": [
    "img_path = '/home/ImageData/c077_Test_35p_0.1ms.nd2'"
   ]
  },
  {
   "cell_type": "code",
   "execution_count": 2,
   "metadata": {},
   "outputs": [],
   "source": [
    "from nd2 import ND2File\n",
    "from os import sep, mkdir, PathLike"
   ]
  },
  {
   "cell_type": "code",
   "execution_count": 3,
   "metadata": {},
   "outputs": [],
   "source": [
    "from nd2 import ND2File\n",
    "def get_ND2_metadata(img_path:PathLike)-> dict:\n",
    "    # Get ND2 img metadata\n",
    "    nd_obj = ND2File(img_path)\n",
    "    \n",
    "    # Get meta (sizes always include txy)\n",
    "    nd2meta = {}\n",
    "    nd2meta['img_width'] = nd_obj.sizes['X']\n",
    "    nd2meta['img_length'] = nd_obj.sizes['Y']\n",
    "    if 'T' in nd_obj.sizes: \n",
    "        nd2meta['t'] = nd_obj.sizes['T']\n",
    "    else:\n",
    "        nd2meta['t'] = 1\n",
    "        \n",
    "    if 'C' in nd_obj.sizes: \n",
    "        nd2meta['full_n_channels'] = nd_obj.sizes['C']\n",
    "    else:\n",
    "        nd2meta['full_n_channels'] = 1    \n",
    "\n",
    "    if 'Z' in nd_obj.sizes: \n",
    "        nd2meta['n_slices'] = nd_obj.sizes['Z']\n",
    "    else:\n",
    "        nd2meta['n_slices'] = 1  \n",
    "        \n",
    "    if 'P' in nd_obj.sizes: \n",
    "        nd2meta['n_series'] = nd_obj.sizes['P']\n",
    "    else:\n",
    "        nd2meta['n_series'] = 1  \n",
    "\n",
    "    nd2meta['um_per_pixel'] = nd_obj.metadata.channels[0].volume.axesCalibration[:2]\n",
    "    nd2meta['axes'] = ''\n",
    "    \n",
    "    if not nd2meta['t'] == 1:\n",
    "        nd2meta['interval_sec'] = nd_obj.experiment[0].parameters.periodMs/1000 \n",
    "    \n",
    "    \n",
    "    nd2meta['file_type'] = '.nd2'\n",
    "    ### Check for nd2 bugs with foccused EDF and z stack\n",
    "    #if nd2meta['z']*nd2meta['t']*nd2meta['v']!=nd2meta['total_images_per_channel']:\n",
    "     #   nd2meta['z'] = 1\n",
    "    nd_obj.close()\n",
    "    \n",
    "    return nd2meta"
   ]
  },
  {
   "cell_type": "code",
   "execution_count": 10,
   "metadata": {},
   "outputs": [
    {
     "ename": "KeyError",
     "evalue": "'T'",
     "output_type": "error",
     "traceback": [
      "\u001b[0;31m---------------------------------------------------------------------------\u001b[0m",
      "\u001b[0;31mKeyError\u001b[0m                                  Traceback (most recent call last)",
      "Cell \u001b[0;32mIn[10], line 1\u001b[0m\n\u001b[0;32m----> 1\u001b[0m testdict \u001b[38;5;241m=\u001b[39m \u001b[43mget_ND2_metadata\u001b[49m\u001b[43m(\u001b[49m\u001b[43mimg_path\u001b[49m\u001b[43m)\u001b[49m\n",
      "Cell \u001b[0;32mIn[3], line 10\u001b[0m, in \u001b[0;36mget_ND2_metadata\u001b[0;34m(img_path)\u001b[0m\n\u001b[1;32m      8\u001b[0m nd2meta[\u001b[38;5;124m'\u001b[39m\u001b[38;5;124mimg_width\u001b[39m\u001b[38;5;124m'\u001b[39m] \u001b[38;5;241m=\u001b[39m nd_obj\u001b[38;5;241m.\u001b[39msizes[\u001b[38;5;124m'\u001b[39m\u001b[38;5;124mX\u001b[39m\u001b[38;5;124m'\u001b[39m]\n\u001b[1;32m      9\u001b[0m nd2meta[\u001b[38;5;124m'\u001b[39m\u001b[38;5;124mimg_length\u001b[39m\u001b[38;5;124m'\u001b[39m] \u001b[38;5;241m=\u001b[39m nd_obj\u001b[38;5;241m.\u001b[39msizes[\u001b[38;5;124m'\u001b[39m\u001b[38;5;124mY\u001b[39m\u001b[38;5;124m'\u001b[39m]\n\u001b[0;32m---> 10\u001b[0m nd2meta[\u001b[38;5;124m'\u001b[39m\u001b[38;5;124mn_frames\u001b[39m\u001b[38;5;124m'\u001b[39m] \u001b[38;5;241m=\u001b[39m \u001b[43mnd_obj\u001b[49m\u001b[38;5;241;43m.\u001b[39;49m\u001b[43msizes\u001b[49m\u001b[43m[\u001b[49m\u001b[38;5;124;43m'\u001b[39;49m\u001b[38;5;124;43mT\u001b[39;49m\u001b[38;5;124;43m'\u001b[39;49m\u001b[43m]\u001b[49m\n\u001b[1;32m     11\u001b[0m nd2meta[\u001b[38;5;124m'\u001b[39m\u001b[38;5;124mfull_n_channels\u001b[39m\u001b[38;5;124m'\u001b[39m] \u001b[38;5;241m=\u001b[39m nd_obj\u001b[38;5;241m.\u001b[39msizes[\u001b[38;5;124m'\u001b[39m\u001b[38;5;124mC\u001b[39m\u001b[38;5;124m'\u001b[39m] \n\u001b[1;32m     12\u001b[0m nd2meta[\u001b[38;5;124m'\u001b[39m\u001b[38;5;124mn_slices\u001b[39m\u001b[38;5;124m'\u001b[39m] \u001b[38;5;241m=\u001b[39m \u001b[38;5;124m'\u001b[39m\u001b[38;5;124mneeds to be found and added\u001b[39m\u001b[38;5;124m'\u001b[39m \u001b[38;5;66;03m#nd_obj.sizes['T'] #TODO missing\u001b[39;00m\n",
      "\u001b[0;31mKeyError\u001b[0m: 'T'"
     ]
    }
   ],
   "source": [
    "testdict = get_ND2_metadata(img_path)"
   ]
  },
  {
   "cell_type": "code",
   "execution_count": 5,
   "metadata": {},
   "outputs": [
    {
     "data": {
      "text/plain": [
       "{'img_width': 1024,\n",
       " 'img_length': 1024,\n",
       " 'n_frames': 121,\n",
       " 'full_n_channels': 2,\n",
       " 'n_slices': 'needs to be found and added',\n",
       " 'n_series': 3,\n",
       " 'um_per_pixel': (0.649397616526266, 0.649397616526266),\n",
       " 'axes': '',\n",
       " 'interval_sec': 60.0,\n",
       " 'file_type': '.nd2'}"
      ]
     },
     "execution_count": 5,
     "metadata": {},
     "output_type": "execute_result"
    }
   ],
   "source": [
    "testdict"
   ]
  },
  {
   "cell_type": "code",
   "execution_count": 15,
   "metadata": {},
   "outputs": [],
   "source": [
    "nd_obj = ND2File(img_path)"
   ]
  },
  {
   "cell_type": "code",
   "execution_count": 14,
   "metadata": {},
   "outputs": [],
   "source": [
    "nd_obj.close()"
   ]
  },
  {
   "cell_type": "code",
   "execution_count": 16,
   "metadata": {},
   "outputs": [
    {
     "data": {
      "text/plain": [
       "{'T': 12, 'C': 2, 'Y': 1024, 'X': 1024}"
      ]
     },
     "execution_count": 16,
     "metadata": {},
     "output_type": "execute_result"
    }
   ],
   "source": [
    "nd_obj.sizes"
   ]
  },
  {
   "cell_type": "code",
   "execution_count": 19,
   "metadata": {},
   "outputs": [
    {
     "name": "stdout",
     "output_type": "stream",
     "text": [
      "True\n",
      "False\n"
     ]
    }
   ],
   "source": [
    "if 'C' in nd_obj.sizes:\n",
    "    print(True)\n",
    "if 'C' in nd_obj.sizes:\n",
    "    print(False)"
   ]
  }
 ],
 "metadata": {
  "kernelspec": {
   "display_name": "cp_dock",
   "language": "python",
   "name": "python3"
  },
  "language_info": {
   "codemirror_mode": {
    "name": "ipython",
    "version": 3
   },
   "file_extension": ".py",
   "mimetype": "text/x-python",
   "name": "python",
   "nbconvert_exporter": "python",
   "pygments_lexer": "ipython3",
   "version": "3.8.18"
  }
 },
 "nbformat": 4,
 "nbformat_minor": 2
}
