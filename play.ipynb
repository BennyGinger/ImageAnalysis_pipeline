{
 "cells": [
  {
   "cell_type": "code",
   "execution_count": 1,
   "metadata": {},
   "outputs": [
    {
     "name": "stderr",
     "output_type": "stream",
     "text": [
      "/opt/conda/envs/cp_dock/lib/python3.8/site-packages/pyqtgraph/colors/palette.py:1: RuntimeWarning: PyQtGraph supports Qt version >= 5.15, but 5.12.1 detected.\n",
      "  from ..Qt import QtGui\n"
     ]
    }
   ],
   "source": [
    "from pipeline.gui import tabs"
   ]
  },
  {
   "cell_type": "code",
   "execution_count": 2,
   "metadata": {},
   "outputs": [
    {
     "name": "stderr",
     "output_type": "stream",
     "text": [
      "QStandardPaths: XDG_RUNTIME_DIR not set, defaulting to '/tmp/runtime-root'\n"
     ]
    },
    {
     "name": "stdout",
     "output_type": "stream",
     "text": [
      "GUI_INFO: selected model twoFishMacrophage, loading now\n",
      "GUI_INFO: diameter set to  11.31 (but can be changed)\n"
     ]
    },
    {
     "ename": "SystemExit",
     "evalue": "0",
     "output_type": "error",
     "traceback": [
      "An exception has occurred, use %tb to see the full traceback.\n",
      "\u001b[0;31mSystemExit\u001b[0m\u001b[0;31m:\u001b[0m 0\n"
     ]
    }
   ],
   "source": [
    "tabs.start_gui()"
   ]
  },
  {
   "cell_type": "code",
   "execution_count": 13,
   "metadata": {},
   "outputs": [],
   "source": [
    "from tifffile import imread, imwrite\n",
    "from matplotlib.pyplot import imshow\n",
    "import json"
   ]
  },
  {
   "cell_type": "code",
   "execution_count": 7,
   "metadata": {},
   "outputs": [
    {
     "data": {
      "text/plain": [
       "<matplotlib.image.AxesImage at 0x7f0fe47fbd90>"
      ]
     },
     "execution_count": 7,
     "metadata": {},
     "output_type": "execute_result"
    },
    {
     "data": {
      "image/png": "[encoded data removed]",
      "text/plain": [
       "<Figure size 640x480 with 1 Axes>"
      ]
     },
     "metadata": {},
     "output_type": "display_data"
    }
   ],
   "source": [
    "img = imread('/home/Fabian/ImageData/mfap4-mpx_isohypo_2h_WT-MaxIP_s1/Images/GFP_s01_f0001_z0001.tif')\n",
    "imshow(img)"
   ]
  },
  {
   "cell_type": "code",
   "execution_count": 52,
   "metadata": {},
   "outputs": [],
   "source": [
    "save_dir='/home/Fabian/ImageData/Test/GFP_s01_f0001_z0001.tif'\n",
    "save2 = '/home/Fabian/ImageData/Test/GFP_s01_f0002_z0001.tif'"
   ]
  },
  {
   "cell_type": "code",
   "execution_count": 43,
   "metadata": {},
   "outputs": [],
   "source": [
    "resolution = (1.5399, 1.5399)"
   ]
  },
  {
   "cell_type": "code",
   "execution_count": 58,
   "metadata": {},
   "outputs": [],
   "source": [
    "ijinfo = {\"finterval\": 180, 'unit': 'um', 'Title': 'New lovely mask'}"
   ]
  },
  {
   "cell_type": "code",
   "execution_count": 59,
   "metadata": {},
   "outputs": [],
   "source": [
    "imwrite(save_dir, img, imagej=True, resolution=resolution, metadata=ijinfo)"
   ]
  },
  {
   "cell_type": "code",
   "execution_count": 56,
   "metadata": {},
   "outputs": [
    {
     "name": "stdout",
     "output_type": "stream",
     "text": [
      "TiffTag 256 ImageWidth @10 LONG @18 = 1024\n",
      "TiffTag 257 ImageLength @22 LONG @30 = 1024\n",
      "TiffTag 258 BitsPerSample @34 SHORT @42 = 16\n",
      "TiffTag 259 Compression @46 SHORT @54 = NONE\n",
      "TiffTag 262 PhotometricInterpretation @58 SHORT @66 = MINISBLACK\n",
      "TiffTag 270 ImageDescription @70 ASCII[76] @206 = ImageJ=1.11a images=1 hyperst\n",
      "TiffTag 273 StripOffsets @82 LONG @90 = (432,)\n",
      "TiffTag 277 SamplesPerPixel @94 SHORT @102 = 1\n",
      "TiffTag 278 RowsPerStrip @106 LONG @114 = 1024\n",
      "TiffTag 279 StripByteCounts @118 LONG @126 = (2097152,)\n",
      "TiffTag 282 XResolution @130 RATIONAL @346 = (4294967295, 2789120914)\n",
      "TiffTag 283 YResolution @142 RATIONAL @354 = (4294967295, 2789120914)\n",
      "TiffTag 296 ResolutionUnit @154 SHORT @162 = NONE\n",
      "TiffTag 305 Software @166 ASCII[12] @362 = tifffile.py\n",
      "TiffTag 50838 IJMetadataByteCounts @178 LONG[2] @374 = (12, 30)\n",
      "TiffTag 50839 IJMetadata @190 BYTE[42] @382 = {'Labels': 'New lovely mask'}\n"
     ]
    }
   ],
   "source": [
    "from tifffile import TiffFile\n",
    "with TiffFile(save2) as tif:\n",
    "    imagej_meta = tif.imagej_metadata\n",
    "    # imagej_meta['axes'] = tif.series[0].axes\n",
    "    for page in tif.pages: # Add additional meta\n",
    "        for tag in page.tags:\n",
    "            # if tag.name in ['ImageWidth','ImageLength',]:\n",
    "            #     imagej_meta[tag.name] = tag.value\n",
    "            # if tag.name in ['XResolution','YResolution']:\n",
    "            #     imagej_meta[tag.name] = tag.value[0]/tag.value[1]\n",
    "            print(tag)\n",
    "    "
   ]
  }
 ],
 "metadata": {
  "kernelspec": {
   "display_name": "cp_dock",
   "language": "python",
   "name": "python3"
  },
  "language_info": {
   "codemirror_mode": {
    "name": "ipython",
    "version": 3
   },
   "file_extension": ".py",
   "mimetype": "text/x-python",
   "name": "python",
   "nbconvert_exporter": "python",
   "pygments_lexer": "ipython3",
   "version": "3.8.18"
  }
 },
 "nbformat": 4,
 "nbformat_minor": 2
}
