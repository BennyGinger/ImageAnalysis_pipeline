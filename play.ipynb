{
 "cells": [
  {
   "cell_type": "code",
   "execution_count": 1,
   "metadata": {},
   "outputs": [
    {
     "name": "stderr",
     "output_type": "stream",
     "text": [
      "/opt/conda/envs/cp_dock/lib/python3.8/site-packages/pyqtgraph/colors/palette.py:1: RuntimeWarning: PyQtGraph supports Qt version >= 5.15, but 5.12.1 detected.\n",
      "  from ..Qt import QtGui\n"
     ]
    },
    {
     "name": "stdout",
     "output_type": "stream",
     "text": [
      "2024-02-17 19:07:41,263 [INFO] WRITING LOG OUTPUT TO /root/.cellpose/run.log\n",
      "2024-02-17 19:07:41,265 [INFO] \n",
      "cellpose version: \t2.2.3 \n",
      "platform:       \tlinux \n",
      "python version: \t3.8.18 \n",
      "torch version:  \t1.11.0\n"
     ]
    },
    {
     "ename": "",
     "evalue": "",
     "output_type": "error",
     "traceback": [
      "\u001b[1;31mThe Kernel crashed while executing code in the current cell or a previous cell. \n",
      "\u001b[1;31mPlease review the code in the cell(s) to identify a possible cause of the failure. \n",
      "\u001b[1;31mClick <a href='https://aka.ms/vscodeJupyterKernelCrash'>here</a> for more info. \n",
      "\u001b[1;31mView Jupyter <a href='command:jupyter.viewOutput'>log</a> for further details."
     ]
    }
   ],
   "source": [
    "from cellpose.gui import gui\n",
    "from pipeline.test import run_gui"
   ]
  },
  {
   "cell_type": "code",
   "execution_count": 5,
   "metadata": {},
   "outputs": [
    {
     "name": "stdout",
     "output_type": "stream",
     "text": [
      "2024-02-17 19:05:14,779 [INFO] WRITING LOG OUTPUT TO /root/.cellpose/run.log\n",
      "2024-02-17 19:05:14,784 [INFO] \n",
      "cellpose version: \t2.2.3 \n",
      "platform:       \tlinux \n",
      "python version: \t3.8.18 \n",
      "torch version:  \t1.11.0\n"
     ]
    },
    {
     "ename": "",
     "evalue": "",
     "output_type": "error",
     "traceback": [
      "\u001b[1;31mThe Kernel crashed while executing code in the current cell or a previous cell. \n",
      "\u001b[1;31mPlease review the code in the cell(s) to identify a possible cause of the failure. \n",
      "\u001b[1;31mClick <a href='https://aka.ms/vscodeJupyterKernelCrash'>here</a> for more info. \n",
      "\u001b[1;31mView Jupyter <a href='command:jupyter.viewOutput'>log</a> for further details."
     ]
    }
   ],
   "source": [
    "run_gui()"
   ]
  },
  {
   "cell_type": "code",
   "execution_count": 2,
   "metadata": {},
   "outputs": [],
   "source": [
    "from qtpy.QtCore import Qt\n",
    "from qtpy.QtGui import QFont\n",
    "from qtpy.QtWidgets import QApplication, QLabel\n",
    "from pyqt_vertical_tab_widget.verticalTabWidget import VerticalTabWidget\n",
    "import sys"
   ]
  },
  {
   "cell_type": "code",
   "execution_count": null,
   "metadata": {},
   "outputs": [],
   "source": [
    "from cellpose.io import logger_setup\n",
    "global logger\n",
    "logger, log_file = logger_setup()\n",
    "# Always start by initializing Qt (only once per application)\n",
    "warnings.filterwarnings(\"ignore\")\n",
    "app = QApplication(sys.argv)\n",
    "icon_path = pathlib.Path.home().joinpath('.cellpose', 'logo.png')\n",
    "guip_path = pathlib.Path.home().joinpath('.cellpose', 'cellpose_gui.png')\n",
    "style_path = pathlib.Path.home().joinpath('.cellpose', 'style_choice.npy')\n",
    "if not icon_path.is_file():\n",
    "    cp_dir = pathlib.Path.home().joinpath('.cellpose')\n",
    "    cp_dir.mkdir(exist_ok=True)\n",
    "    print('downloading logo')\n",
    "    download_url_to_file('https://www.cellpose.org/static/images/cellpose_transparent.png', icon_path, progress=True)\n",
    "if not guip_path.is_file():\n",
    "    print('downloading help window image')\n",
    "    download_url_to_file('https://www.cellpose.org/static/images/cellpose_gui.png', guip_path, progress=True)\n",
    "if not style_path.is_file():\n",
    "    print('downloading style classifier')\n",
    "    download_url_to_file('https://www.cellpose.org/static/models/style_choice.npy', style_path, progress=True)\n",
    "icon_path = str(icon_path.resolve())\n",
    "app_icon = QtGui.QIcon()\n",
    "app_icon.addFile(icon_path, QtCore.QSize(16, 16))\n",
    "app_icon.addFile(icon_path, QtCore.QSize(24, 24))\n",
    "app_icon.addFile(icon_path, QtCore.QSize(32, 32))\n",
    "app_icon.addFile(icon_path, QtCore.QSize(48, 48))\n",
    "app_icon.addFile(icon_path, QtCore.QSize(64, 64))\n",
    "app_icon.addFile(icon_path, QtCore.QSize(256, 256))\n",
    "app.setWindowIcon(app_icon)\n",
    "\n",
    "# models.download_model_weights() # does not exist\n",
    "MainW(image=None)\n",
    "ret = app.exec_()\n",
    "sys.exit(ret)"
   ]
  },
  {
   "cell_type": "code",
   "execution_count": 3,
   "metadata": {},
   "outputs": [
    {
     "name": "stderr",
     "output_type": "stream",
     "text": [
      "/opt/conda/envs/cp_dock/lib/python3.8/site-packages/pyqtgraph/colors/palette.py:1: RuntimeWarning: PyQtGraph supports Qt version >= 5.15, but 5.12.1 detected.\n",
      "  from ..Qt import QtGui\n"
     ]
    }
   ],
   "source": [
    "from pipeline.gui import gui"
   ]
  },
  {
   "cell_type": "code",
   "execution_count": 4,
   "metadata": {},
   "outputs": [
    {
     "name": "stderr",
     "output_type": "stream",
     "text": [
      "QStandardPaths: XDG_RUNTIME_DIR not set, defaulting to '/tmp/runtime-root'\n",
      "QLayout: Attempting to add QLayout \"\" to MainW \"\", which already has a layout\n",
      "Empty filename passed to function\n",
      "Empty filename passed to function\n",
      "ERROR: could not read file, 'NoneType' object has no attribute 'ndim'\n"
     ]
    },
    {
     "name": "stdout",
     "output_type": "stream",
     "text": [
      "GUI_INFO: loading image: \n"
     ]
    },
    {
     "ename": "AttributeError",
     "evalue": "'NoneType' object has no attribute 'ndim'",
     "output_type": "error",
     "traceback": [
      "\u001b[0;31m---------------------------------------------------------------------------\u001b[0m",
      "\u001b[0;31mAttributeError\u001b[0m                            Traceback (most recent call last)",
      "File \u001b[0;32m/home/ImageAnalysis_pipeline/pipeline/gui/menus.py:17\u001b[0m, in \u001b[0;36mmainmenu.<locals>.<lambda>\u001b[0;34m()\u001b[0m\n\u001b[1;32m     15\u001b[0m loadImg \u001b[38;5;241m=\u001b[39m QAction(\u001b[38;5;124m\"\u001b[39m\u001b[38;5;124m&Load image (*.tif, *.png, *.jpg)\u001b[39m\u001b[38;5;124m\"\u001b[39m, parent)\n\u001b[1;32m     16\u001b[0m loadImg\u001b[38;5;241m.\u001b[39msetShortcut(\u001b[38;5;124m\"\u001b[39m\u001b[38;5;124mCtrl+L\u001b[39m\u001b[38;5;124m\"\u001b[39m)\n\u001b[0;32m---> 17\u001b[0m loadImg\u001b[38;5;241m.\u001b[39mtriggered\u001b[38;5;241m.\u001b[39mconnect(\u001b[38;5;28;01mlambda\u001b[39;00m: \u001b[43mio\u001b[49m\u001b[38;5;241;43m.\u001b[39;49m\u001b[43m_load_image\u001b[49m\u001b[43m(\u001b[49m\u001b[43mparent\u001b[49m\u001b[43m)\u001b[49m)\n\u001b[1;32m     18\u001b[0m file_menu\u001b[38;5;241m.\u001b[39maddAction(loadImg)\n\u001b[1;32m     20\u001b[0m parent\u001b[38;5;241m.\u001b[39mautoloadMasks \u001b[38;5;241m=\u001b[39m QAction(\u001b[38;5;124m\"\u001b[39m\u001b[38;5;124mAutoload masks from _masks.tif file\u001b[39m\u001b[38;5;124m\"\u001b[39m, parent, checkable\u001b[38;5;241m=\u001b[39m\u001b[38;5;28;01mTrue\u001b[39;00m)\n",
      "File \u001b[0;32m/home/ImageAnalysis_pipeline/pipeline/gui/io.py:133\u001b[0m, in \u001b[0;36m_load_image\u001b[0;34m(parent, filename, load_seg)\u001b[0m\n\u001b[1;32m    131\u001b[0m parent\u001b[38;5;241m.\u001b[39mfilename \u001b[38;5;241m=\u001b[39m filename\n\u001b[1;32m    132\u001b[0m filename \u001b[38;5;241m=\u001b[39m os\u001b[38;5;241m.\u001b[39mpath\u001b[38;5;241m.\u001b[39msplit(parent\u001b[38;5;241m.\u001b[39mfilename)[\u001b[38;5;241m-\u001b[39m\u001b[38;5;241m1\u001b[39m]\n\u001b[0;32m--> 133\u001b[0m \u001b[43m_initialize_images\u001b[49m\u001b[43m(\u001b[49m\u001b[43mparent\u001b[49m\u001b[43m,\u001b[49m\u001b[43m \u001b[49m\u001b[43mimage\u001b[49m\u001b[43m,\u001b[49m\u001b[43m \u001b[49m\u001b[43mresize\u001b[49m\u001b[38;5;241;43m=\u001b[39;49m\u001b[43mparent\u001b[49m\u001b[38;5;241;43m.\u001b[39;49m\u001b[43mresize\u001b[49m\u001b[43m,\u001b[49m\u001b[43m \u001b[49m\u001b[43mX2\u001b[49m\u001b[38;5;241;43m=\u001b[39;49m\u001b[38;5;241;43m0\u001b[39;49m\u001b[43m)\u001b[49m\n\u001b[1;32m    134\u001b[0m parent\u001b[38;5;241m.\u001b[39mclear_all()\n\u001b[1;32m    135\u001b[0m parent\u001b[38;5;241m.\u001b[39mloaded \u001b[38;5;241m=\u001b[39m \u001b[38;5;28;01mTrue\u001b[39;00m\n",
      "File \u001b[0;32m/home/ImageAnalysis_pipeline/pipeline/gui/io.py:145\u001b[0m, in \u001b[0;36m_initialize_images\u001b[0;34m(parent, image, resize, X2)\u001b[0m\n\u001b[1;32m    143\u001b[0m \u001b[38;5;250m\u001b[39m\u001b[38;5;124;03m\"\"\" format image for GUI \"\"\"\u001b[39;00m\n\u001b[1;32m    144\u001b[0m parent\u001b[38;5;241m.\u001b[39monechan\u001b[38;5;241m=\u001b[39m\u001b[38;5;28;01mFalse\u001b[39;00m\n\u001b[0;32m--> 145\u001b[0m \u001b[38;5;28;01mif\u001b[39;00m \u001b[43mimage\u001b[49m\u001b[38;5;241;43m.\u001b[39;49m\u001b[43mndim\u001b[49m \u001b[38;5;241m>\u001b[39m \u001b[38;5;241m3\u001b[39m:\n\u001b[1;32m    146\u001b[0m     \u001b[38;5;66;03m# make tiff Z x channels x W x H\u001b[39;00m\n\u001b[1;32m    147\u001b[0m     \u001b[38;5;28;01mif\u001b[39;00m image\u001b[38;5;241m.\u001b[39mshape[\u001b[38;5;241m0\u001b[39m]\u001b[38;5;241m<\u001b[39m\u001b[38;5;241m4\u001b[39m:\n\u001b[1;32m    148\u001b[0m         \u001b[38;5;66;03m# tiff is channels x Z x W x H\u001b[39;00m\n\u001b[1;32m    149\u001b[0m         image \u001b[38;5;241m=\u001b[39m np\u001b[38;5;241m.\u001b[39mtranspose(image, (\u001b[38;5;241m1\u001b[39m,\u001b[38;5;241m0\u001b[39m,\u001b[38;5;241m2\u001b[39m,\u001b[38;5;241m3\u001b[39m))\n",
      "\u001b[0;31mAttributeError\u001b[0m: 'NoneType' object has no attribute 'ndim'"
     ]
    },
    {
     "ename": "SystemExit",
     "evalue": "0",
     "output_type": "error",
     "traceback": [
      "An exception has occurred, use %tb to see the full traceback.\n",
      "\u001b[0;31mSystemExit\u001b[0m\u001b[0;31m:\u001b[0m 0\n"
     ]
    },
    {
     "name": "stderr",
     "output_type": "stream",
     "text": [
      "/opt/conda/envs/cp_dock/lib/python3.8/site-packages/IPython/core/interactiveshell.py:3516: UserWarning: To exit: use 'exit', 'quit', or Ctrl-D.\n",
      "  warn(\"To exit: use 'exit', 'quit', or Ctrl-D.\", stacklevel=1)\n"
     ]
    }
   ],
   "source": [
    "app = QApplication(sys.argv)\n",
    "\n",
    "myWindow = VerticalTabWidget()\n",
    "\n",
    "\n",
    "tab1 = gui.MainW()\n",
    "\n",
    "myWindow.addTab(tab1, 'Tab 1')\n",
    "\n",
    "\n",
    "tab2 = QLabel()\n",
    "\n",
    "tab2.setAlignment(Qt.AlignCenter)\n",
    "\n",
    "tab2.setText(f'Widget 2')\n",
    "\n",
    "tab2.setFont(QFont('Arial', 30, QFont.Bold))\n",
    "\n",
    "myWindow.addTab(tab2, 'Tab 2')\n",
    "\n",
    "myWindow.show()\n",
    "\n",
    "sys.exit(app.exec_())"
   ]
  }
 ],
 "metadata": {
  "kernelspec": {
   "display_name": "cp_dock",
   "language": "python",
   "name": "python3"
  },
  "language_info": {
   "codemirror_mode": {
    "name": "ipython",
    "version": 3
   },
   "file_extension": ".py",
   "mimetype": "text/x-python",
   "name": "python",
   "nbconvert_exporter": "python",
   "pygments_lexer": "ipython3",
   "version": "3.8.18"
  }
 },
 "nbformat": 4,
 "nbformat_minor": 2
}
