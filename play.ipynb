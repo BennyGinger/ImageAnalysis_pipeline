{
 "cells": [
  {
   "cell_type": "code",
   "execution_count": 1,
   "metadata": {},
   "outputs": [],
   "source": [
    "from pipeline.gui import tabs"
   ]
  },
  {
   "cell_type": "code",
   "execution_count": null,
   "metadata": {},
   "outputs": [
    {
     "ename": "",
     "evalue": "",
     "output_type": "error",
     "traceback": [
      "\u001b[1;31mThe Kernel crashed while executing code in the current cell or a previous cell. \n",
      "\u001b[1;31mPlease review the code in the cell(s) to identify a possible cause of the failure. \n",
      "\u001b[1;31mClick <a href='https://aka.ms/vscodeJupyterKernelCrash'>here</a> for more info. \n",
      "\u001b[1;31mView Jupyter <a href='command:jupyter.viewOutput'>log</a> for further details."
     ]
    }
   ],
   "source": [
    "tabs.start_gui()"
   ]
  },
  {
   "cell_type": "code",
   "execution_count": 3,
   "metadata": {},
   "outputs": [],
   "source": [
    "img_path = '/home/ImageData/control_EC1_001.nd2'"
   ]
  },
  {
   "cell_type": "code",
   "execution_count": 5,
   "metadata": {},
   "outputs": [],
   "source": [
    "from nd2 import ND2File\n",
    "from os import sep, mkdir, PathLike"
   ]
  },
  {
   "cell_type": "code",
   "execution_count": 33,
   "metadata": {},
   "outputs": [],
   "source": [
    "from nd2 import ND2File\n",
    "def get_ND2_metadata(img_path:PathLike)-> dict:\n",
    "    # Get ND2 img metadata\n",
    "    nd_obj = ND2File(img_path)\n",
    "    \n",
    "    # Get meta (sizes always include txy)\n",
    "    nd2meta = {}\n",
    "    nd2meta['img_width'] = nd_obj.sizes['X']\n",
    "    nd2meta['img_length'] = nd_obj.sizes['Y']\n",
    "    nd2meta['n_frames'] = nd_obj.sizes['T']\n",
    "    nd2meta['full_n_channels'] = nd_obj.sizes['C'] \n",
    "    nd2meta['n_slices'] = 'needs to be found and added' #nd_obj.sizes['T'] #TODO missing\n",
    "    nd2meta['n_series'] = nd_obj.sizes['P']\n",
    "    nd2meta['um_per_pixel'] = nd_obj.metadata.channels[0].volume.axesCalibration[:2]\n",
    "    nd2meta['axes'] = ''\n",
    "    nd2meta['interval_sec'] = nd_obj.experiment[0].parameters.periodMs/1000 \n",
    "    nd2meta['file_type'] = '.nd2'\n",
    "    \n",
    "    #if 'c' not in nd2meta: nd2meta['c'] = 1\n",
    "    \n",
    "    #if 'v' not in nd2meta: nd2meta['v'] = 1\n",
    "    \n",
    "   # if 'z' not in nd2meta: nd2meta['z'] = 1\n",
    "    \n",
    "    ### Check for nd2 bugs with foccused EDF and z stack\n",
    "    #if nd2meta['z']*nd2meta['t']*nd2meta['v']!=nd2meta['total_images_per_channel']:\n",
    "     #   nd2meta['z'] = 1\n",
    "    nd_obj.close()\n",
    "    \n",
    "    return nd2meta"
   ]
  },
  {
   "cell_type": "code",
   "execution_count": 34,
   "metadata": {},
   "outputs": [],
   "source": [
    "testdict = get_ND2_metadata(img_path)"
   ]
  },
  {
   "cell_type": "code",
   "execution_count": 35,
   "metadata": {},
   "outputs": [
    {
     "data": {
      "text/plain": [
       "{'img_width': 1024,\n",
       " 'img_length': 1024,\n",
       " 'n_frames': 2,\n",
       " 'full_n_channels': 2,\n",
       " 'n_slices': 'needs to be found and added',\n",
       " 'n_series': 5,\n",
       " 'um_per_pixel': (0.65, 0.65),\n",
       " 'axes': '',\n",
       " 'interval_sec': 300.0,\n",
       " 'file_type': '.nd2'}"
      ]
     },
     "execution_count": 35,
     "metadata": {},
     "output_type": "execute_result"
    }
   ],
   "source": [
    "testdict"
   ]
  },
  {
   "cell_type": "code",
   "execution_count": 17,
   "metadata": {},
   "outputs": [],
   "source": [
    "nd_obj = ND2File(img_path)"
   ]
  },
  {
   "cell_type": "code",
   "execution_count": 36,
   "metadata": {},
   "outputs": [],
   "source": [
    "nd_obj.close()"
   ]
  },
  {
   "cell_type": "code",
   "execution_count": 29,
   "metadata": {},
   "outputs": [
    {
     "data": {
      "text/plain": [
       "{'T': 2, 'P': 5, 'C': 2, 'Y': 1024, 'X': 1024}"
      ]
     },
     "execution_count": 29,
     "metadata": {},
     "output_type": "execute_result"
    }
   ],
   "source": [
    "nd_obj.sizes"
   ]
  }
 ],
 "metadata": {
  "kernelspec": {
   "display_name": "cp_dock",
   "language": "python",
   "name": "python3"
  },
  "language_info": {
   "codemirror_mode": {
    "name": "ipython",
    "version": 3
   },
   "file_extension": ".py",
   "mimetype": "text/x-python",
   "name": "python",
   "nbconvert_exporter": "python",
   "pygments_lexer": "ipython3",
   "version": "3.8.18"
  }
 },
 "nbformat": 4,
 "nbformat_minor": 2
}
