{
 "cells": [
  {
   "cell_type": "markdown",
   "metadata": {},
   "source": [
    "# Transform mask into COSTO .json"
   ]
  },
  {
   "cell_type": "code",
   "execution_count": 229,
   "metadata": {},
   "outputs": [],
   "source": [
    "import re\n",
    "from os import listdir, PathLike\n",
    "from os.path import join\n",
    "from pipeline.image_handeling.data_utility import load_stack\n",
    "from skimage.measure import find_contours, regionprops_table\n",
    "from numpyencoder import NumpyEncoder\n",
    "import json\n",
    "\n",
    "def mask_to_json(mask_fold_path: PathLike, save_path: PathLike, channel:str)->None:\n",
    "  \"\"\"Function that converts .tif labeled masks from np.array stacks into COCO .json format files.\n",
    "  Saves the file into the given location.\n",
    "  Args:\n",
    "      mask_fold_path (PathLike): Folder of the masks.\n",
    "      save_path (PathLike): Path where the .json is going to be saved. Must include the filename and the ending \".json\".\n",
    "      channel (string): The channel that should be transformed into .json.\n",
    "  Returns:\n",
    "      None, saves the .json into the given location.\"\"\"\n",
    "  img_path = []\n",
    "  for file in sorted(listdir(mask_fold_path)):\n",
    "      if channel in file:\n",
    "        img_path.append(join(mask_fold_path,file))\n",
    "  im_num = re.findall('f\\d+', str(img_path))\n",
    "  max_number = max(int(x[1:]) for x in im_num)\n",
    "  max_number\n",
    "\n",
    "  img_stack = load_stack(img_paths=img_path, channels=channel, frame_range=range(max_number), return_2D=True)\n",
    "\n",
    "  annotations_lst = []\n",
    "  images_lst = []\n",
    "  for frame, img in enumerate(img_stack):\n",
    "    outline_region =regionprops_table(img, properties=('label','bbox','area'))\n",
    "    frame_name = img_path[frame].rsplit('/',1)[1]\n",
    "    labels = outline_region['label']\n",
    "    bbox0 = outline_region['bbox-0']\n",
    "    bbox1 = outline_region['bbox-1']\n",
    "    bbox2 = outline_region['bbox-2']\n",
    "    bbox3 = outline_region['bbox-3']\n",
    "    area = outline_region['area']\n",
    "\n",
    "    for i in range(labels.shape[0]):\n",
    "        label = labels[i]\n",
    "        segmentation_lst=[]\n",
    "        regionmask=(img==label)\n",
    "        coords = find_contours(regionmask)\n",
    "        for y,x in coords[0]:\n",
    "            segmentation_lst.append(x+0.5)\n",
    "            segmentation_lst.append(y+0.5)\n",
    "        \n",
    "        annotations_lst.append({'id':label, \n",
    "                                'image_id':frame+1,\n",
    "                                'category_id':1,\n",
    "                                'segmentation':[segmentation_lst],\n",
    "                                'area':area[i],\n",
    "                                'bbox':[bbox0[i], bbox1[i], bbox2[i], bbox3[i]],\n",
    "                                'iscrowd': 0,\n",
    "                                'attributes': {'occluded': False}})\n",
    "\n",
    "    images_lst.append({'id': frame+1,\n",
    "              'width': img.shape[1],\n",
    "              'height': img.shape[0],\n",
    "              'file_name': frame_name,\n",
    "              'license': 0,\n",
    "              'flickr_url': '',\n",
    "              'coco_url': '',\n",
    "              'date_captured': 0})\n",
    "\n",
    "  json_dict = {'licenses': [{'name': '', 'id': 0, 'url': ''}],\n",
    "          'info': {'contributor': '',\n",
    "            'date_created': '',\n",
    "            'description': '',\n",
    "            'url': '',\n",
    "            'version': '',\n",
    "            'year': ''},\n",
    "          'categories': [{'id': 1, 'name': 'Cell', 'supercategory': ''}],\n",
    "          'images': images_lst,\n",
    "          'annotations':annotations_lst}\n",
    "\n",
    "  with open(save_path, \"w\") as file:\n",
    "      json.dump(json_dict, file, cls=NumpyEncoder)"
   ]
  },
  {
   "cell_type": "code",
   "execution_count": 230,
   "metadata": {},
   "outputs": [
    {
     "name": "stdout",
     "output_type": "stream",
     "text": [
      "[array([[0, 0, 0, ..., 0, 0, 0],\n",
      "       [0, 0, 0, ..., 0, 0, 0],\n",
      "       [0, 0, 0, ..., 0, 0, 0],\n",
      "       ...,\n",
      "       [0, 0, 0, ..., 0, 0, 0],\n",
      "       [0, 0, 0, ..., 0, 0, 0],\n",
      "       [0, 0, 0, ..., 0, 0, 0]], dtype=uint16)]\n"
     ]
    }
   ],
   "source": [
    "\n",
    "mask_folder = '/home/Fabian/ImageData/TrackingTestFiles/NeutrophilTrackingTest/mfap4-mpx_isohypo_2h_WT-MaxIP_s1/Masks_Cellpose'\n",
    "channel = 'GFP'\n",
    "savefile = '/home/Fabian/ImageData/Seriestest.json'\n",
    "\n",
    "mask_to_json(mask_fold_path=mask_folder, save_path=savefile, channel=channel)"
   ]
  },
  {
   "cell_type": "markdown",
   "metadata": {},
   "source": [
    "# Reconstruct mask based on COSTO .json"
   ]
  },
  {
   "cell_type": "code",
   "execution_count": 231,
   "metadata": {},
   "outputs": [],
   "source": [
    "import json\n",
    "import numpy as np\n",
    "from skimage.draw import polygon2mask\n",
    "from os import PathLike\n",
    "\n",
    "def mask_from_json(path:PathLike)->tuple[list[str],np.array]:\n",
    "    \"\"\"Recreates an np.array like stack of masks based on an COCO .json file.\n",
    "    Return the np.array stack of masks and a list fo the Mask names.\n",
    "    Args:\n",
    "        path (PathLike): Path of the .json file to be loaded.\n",
    "    Returns:\n",
    "        tuple[list[str],np.array]: List of the image names, np.array containing the loaded masks\"\"\"\n",
    "    file = open(path)\n",
    "    json_file = json.load(file)\n",
    "\n",
    "    mask_lst = []\n",
    "    name_lst = []\n",
    "    width = json_file['images'][0]['width']\n",
    "    height = json_file['images'][0]['height']\n",
    "    annotations = json_file['annotations']\n",
    "    n_frame = len(json_file['images'])\n",
    "    mask = np.zeros((n_frame,width,height), dtype='int')\n",
    "    for images in json_file['images']:\n",
    "        name_lst.append(images['file_name'])\n",
    "    for annot in annotations:\n",
    "        segmentation = annot['segmentation'][0]\n",
    "        id = int(annot['id'])\n",
    "        frame_id = int(annot['image_id'])\n",
    "        coord_lst = []\n",
    "        for point in range(0, len(segmentation),2):\n",
    "            coord_lst.append((round(segmentation[point+1]), round(segmentation[point])))\n",
    "        tempmask =  polygon2mask((width,height),coord_lst)\n",
    "        tempmask[tempmask!=0] = id\n",
    "        mask[frame_id-1] = mask[frame_id-1] + tempmask\n",
    "    mask_lst.append(mask)\n",
    "    mask_stack = np.squeeze(np.stack(mask_lst))\n",
    "    return name_lst, mask_stack"
   ]
  },
  {
   "cell_type": "code",
   "execution_count": 232,
   "metadata": {},
   "outputs": [],
   "source": [
    "path = '/home/Fabian/ImageData/instances_Series.json'\n",
    "name_lst, mask_stack = mask_from_json(path)"
   ]
  },
  {
   "cell_type": "markdown",
   "metadata": {},
   "source": [
    "# Play area"
   ]
  },
  {
   "cell_type": "code",
   "execution_count": 9,
   "metadata": {},
   "outputs": [],
   "source": [
    "import numpy as np"
   ]
  },
  {
   "cell_type": "code",
   "execution_count": 24,
   "metadata": {},
   "outputs": [],
   "source": [
    "polygons = np.array([(23,25),(12,15)], np.int32)"
   ]
  },
  {
   "cell_type": "code",
   "execution_count": 28,
   "metadata": {},
   "outputs": [],
   "source": [
    "polygons = np.array([], np.int32)"
   ]
  },
  {
   "cell_type": "code",
   "execution_count": 25,
   "metadata": {},
   "outputs": [
    {
     "data": {
      "text/plain": [
       "4"
      ]
     },
     "execution_count": 25,
     "metadata": {},
     "output_type": "execute_result"
    }
   ],
   "source": [
    "polygons.size"
   ]
  },
  {
   "cell_type": "code",
   "execution_count": 29,
   "metadata": {},
   "outputs": [
    {
     "name": "stdout",
     "output_type": "stream",
     "text": [
      "empty\n"
     ]
    }
   ],
   "source": [
    "if not polygons.size > 0:\n",
    "    print('empty')"
   ]
  },
  {
   "cell_type": "code",
   "execution_count": 13,
   "metadata": {},
   "outputs": [
    {
     "data": {
      "text/plain": [
       "array([], dtype=int32)"
      ]
     },
     "execution_count": 13,
     "metadata": {},
     "output_type": "execute_result"
    }
   ],
   "source": [
    "polygons"
   ]
  },
  {
   "cell_type": "code",
   "execution_count": 1,
   "metadata": {},
   "outputs": [],
   "source": [
    "import cv2\n",
    "from tifffile import imread"
   ]
  },
  {
   "cell_type": "code",
   "execution_count": 2,
   "metadata": {},
   "outputs": [],
   "source": [
    "img_path = '/home/Fabian/ImageData/240502-minoSOG_mito_L10/HEKA_c1031_c1829_miniSOG_80%_435_2min_40min_002_Merged_s1/Images_Registered/YFP_s01_f0001_z0001.tif'"
   ]
  },
  {
   "cell_type": "code",
   "execution_count": 3,
   "metadata": {},
   "outputs": [],
   "source": [
    "img = imread(img_path)"
   ]
  },
  {
   "cell_type": "code",
   "execution_count": 30,
   "metadata": {},
   "outputs": [
    {
     "name": "stdout",
     "output_type": "stream",
     "text": [
      "key=119\n",
      "key=100\n",
      "key=115\n",
      "key=97\n",
      "key=83\n",
      "key=82\n",
      "key=81\n",
      "key=84\n",
      "key=108\n",
      "key=107\n",
      "key=106\n",
      "key=105\n",
      "key=107\n",
      "key=108\n",
      "key=108\n",
      "key=107\n",
      "key=106\n",
      "key=105\n",
      "key=107\n",
      "key=108\n",
      "key=107\n",
      "key=106\n",
      "key=105\n",
      "key=107\n",
      "key=103\n",
      "key=103\n",
      "key=102\n",
      "key=114\n",
      "key=101\n",
      "key=100\n",
      "key=103\n",
      "key=113\n"
     ]
    }
   ],
   "source": [
    "cv2.namedWindow(\"Draw ROI of the Wound\", cv2.WINDOW_NORMAL)\n",
    "cv2.resizeWindow(\"Draw ROI of the Wound\", 1024, 1024)\n",
    "cv2.imshow(\"Draw ROI of the Wound\",img)\n",
    "f=0\n",
    "while f!=-1:\n",
    "    key = cv2.waitKeyEx(1) & 0xFF\n",
    "    if key != 255:\n",
    "        print(f'{key=}')\n",
    "    if key == ord(\"q\"):\n",
    "        f = -1\n",
    "cv2.destroyAllWindows()"
   ]
  }
 ],
 "metadata": {
  "kernelspec": {
   "display_name": "cp_dock",
   "language": "python",
   "name": "python3"
  },
  "language_info": {
   "codemirror_mode": {
    "name": "ipython",
    "version": 3
   },
   "file_extension": ".py",
   "mimetype": "text/x-python",
   "name": "python",
   "nbconvert_exporter": "python",
   "pygments_lexer": "ipython3",
   "version": "3.8.13"
  }
 },
 "nbformat": 4,
 "nbformat_minor": 2
}
